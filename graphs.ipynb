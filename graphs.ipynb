{
 "cells": [
  {
   "cell_type": "code",
   "execution_count": 24,
   "metadata": {},
   "outputs": [
    {
     "data": {
      "text/html": [
       "<div>\n",
       "<style scoped>\n",
       "    .dataframe tbody tr th:only-of-type {\n",
       "        vertical-align: middle;\n",
       "    }\n",
       "\n",
       "    .dataframe tbody tr th {\n",
       "        vertical-align: top;\n",
       "    }\n",
       "\n",
       "    .dataframe thead th {\n",
       "        text-align: right;\n",
       "    }\n",
       "</style>\n",
       "<table border=\"1\" class=\"dataframe\">\n",
       "  <thead>\n",
       "    <tr style=\"text-align: right;\">\n",
       "      <th></th>\n",
       "      <th>PRIORITY</th>\n",
       "      <th>zip</th>\n",
       "      <th>count</th>\n",
       "      <th>Neighborhood Name</th>\n",
       "      <th>Unnamed: 2</th>\n",
       "    </tr>\n",
       "  </thead>\n",
       "  <tbody>\n",
       "    <tr>\n",
       "      <th>0</th>\n",
       "      <td>3</td>\n",
       "      <td>95123</td>\n",
       "      <td>269</td>\n",
       "      <td>Willow Glen and part of Cambrian Park</td>\n",
       "      <td>NaN</td>\n",
       "    </tr>\n",
       "    <tr>\n",
       "      <th>1</th>\n",
       "      <td>2</td>\n",
       "      <td>95123</td>\n",
       "      <td>229</td>\n",
       "      <td>Willow Glen and part of Cambrian Park</td>\n",
       "      <td>NaN</td>\n",
       "    </tr>\n",
       "    <tr>\n",
       "      <th>2</th>\n",
       "      <td>4</td>\n",
       "      <td>95123</td>\n",
       "      <td>47</td>\n",
       "      <td>Willow Glen and part of Cambrian Park</td>\n",
       "      <td>NaN</td>\n",
       "    </tr>\n",
       "    <tr>\n",
       "      <th>3</th>\n",
       "      <td>6</td>\n",
       "      <td>95123</td>\n",
       "      <td>41</td>\n",
       "      <td>Willow Glen and part of Cambrian Park</td>\n",
       "      <td>NaN</td>\n",
       "    </tr>\n",
       "    <tr>\n",
       "      <th>4</th>\n",
       "      <td>5</td>\n",
       "      <td>95123</td>\n",
       "      <td>36</td>\n",
       "      <td>Willow Glen and part of Cambrian Park</td>\n",
       "      <td>NaN</td>\n",
       "    </tr>\n",
       "  </tbody>\n",
       "</table>\n",
       "</div>"
      ],
      "text/plain": [
       "   PRIORITY    zip  count                      Neighborhood Name  Unnamed: 2\n",
       "0         3  95123    269  Willow Glen and part of Cambrian Park         NaN\n",
       "1         2  95123    229  Willow Glen and part of Cambrian Park         NaN\n",
       "2         4  95123     47  Willow Glen and part of Cambrian Park         NaN\n",
       "3         6  95123     41  Willow Glen and part of Cambrian Park         NaN\n",
       "4         5  95123     36  Willow Glen and part of Cambrian Park         NaN"
      ]
     },
     "execution_count": 24,
     "metadata": {},
     "output_type": "execute_result"
    }
   ],
   "source": [
    "import pandas as pd\n",
    "\n",
    "#create crime rate chart\n",
    "\n",
    "crime_data = pd.read_csv('./resultDFs/crimes.csv')\n",
    "crime_data.drop(columns='i', inplace=True)\n",
    "zips = pd.read_csv('zipdic.csv')\n",
    "crime_data.rename(columns={'zipcode':'zip'},inplace=True)\n",
    "crime_data = crime_data[crime_data['zip'].astype(str).str.len() == 5]\n",
    "crime_data.groupby(by='zip').mean().reset_index()\n",
    "crime_data['zip'] = crime_data['zip'].astype(int)\n",
    "merged_df = pd.merge(crime_data, zips, on='zip')\n",
    "merged_df.head()"
   ]
  },
  {
   "cell_type": "code",
   "execution_count": 26,
   "metadata": {},
   "outputs": [
    {
     "data": {
      "application/vnd.plotly.v1+json": {
       "config": {
        "plotlyServerURL": "https://plot.ly"
       },
       "data": [
        {
         "alignmentgroup": "True",
         "hovertemplate": "Neighborhood Name=%{x}<br>count=%{y}<br>PRIORITY=%{marker.color}<extra></extra>",
         "legendgroup": "",
         "marker": {
          "color": [
           3,
           2,
           4,
           6,
           5,
           1,
           3,
           2,
           4,
           6,
           1,
           5,
           4,
           3,
           2,
           5,
           6,
           3,
           2,
           4,
           1,
           6,
           5,
           2,
           3,
           6,
           4,
           1,
           5,
           2,
           3,
           4,
           6,
           5,
           1,
           3,
           2,
           4,
           6,
           1,
           5,
           4,
           4,
           4,
           3,
           3,
           3,
           2,
           2,
           2,
           6,
           6,
           6,
           5,
           5,
           5,
           2,
           3,
           5,
           6,
           4,
           2,
           3,
           6,
           4,
           5,
           1,
           3,
           2,
           6,
           4,
           5,
           3,
           2,
           4,
           3,
           4,
           2,
           6,
           5,
           3,
           4,
           2,
           1,
           5,
           4,
           2,
           3,
           5,
           6,
           3,
           2,
           4,
           2
          ],
          "coloraxis": "coloraxis",
          "pattern": {
           "shape": ""
          }
         },
         "name": "",
         "offsetgroup": "",
         "orientation": "v",
         "showlegend": false,
         "textposition": "auto",
         "type": "bar",
         "x": [
          "Willow Glen and part of Cambrian Park",
          "Willow Glen and part of Cambrian Park",
          "Willow Glen and part of Cambrian Park",
          "Willow Glen and part of Cambrian Park",
          "Willow Glen and part of Cambrian Park",
          "Willow Glen and part of Cambrian Park",
          "Edenvale and South San Jose",
          "Edenvale and South San Jose",
          "Edenvale and South San Jose",
          "Edenvale and South San Jose",
          "Edenvale and South San Jose",
          "Edenvale and South San Jose",
          "Alum Rock and parts of East Foothills",
          "Alum Rock and parts of East Foothills",
          "Alum Rock and parts of East Foothills",
          "Alum Rock and parts of East Foothills",
          "Alum Rock and parts of East Foothills",
          "Berryessa and parts of Alum Rock",
          "Berryessa and parts of Alum Rock",
          "Berryessa and parts of Alum Rock",
          "Berryessa and parts of Alum Rock",
          "Berryessa and parts of Alum Rock",
          "Berryessa and parts of Alum Rock",
          "Blossom Valley and Santa Teresa",
          "Blossom Valley and Santa Teresa",
          "Blossom Valley and Santa Teresa",
          "Blossom Valley and Santa Teresa",
          "Blossom Valley and Santa Teresa",
          "Blossom Valley and Santa Teresa",
          "Evergreen and parts of East Foothills",
          "Evergreen and parts of East Foothills",
          "Evergreen and parts of East Foothills",
          "Evergreen and parts of East Foothills",
          "Evergreen and parts of East Foothills",
          "Evergreen and parts of East Foothills",
          "West San Jose and parts of Cupertino",
          "West San Jose and parts of Cupertino",
          "West San Jose and parts of Cupertino",
          "West San Jose and parts of Cupertino",
          "West San Jose and parts of Cupertino",
          "West San Jose and parts of Cupertino",
          "San Jose State University area",
          "Downtown San Jose",
          "Mayfair and Alum Rock",
          "San Jose State University area",
          "Downtown San Jose",
          "Mayfair and Alum Rock",
          "San Jose State University area",
          "Downtown San Jose",
          "Mayfair and Alum Rock",
          "San Jose State University area",
          "Downtown San Jose",
          "Mayfair and Alum Rock",
          "San Jose State University area",
          "Downtown San Jose",
          "Mayfair and Alum Rock",
          "Downtown San Jose and parts of Japantown",
          "Downtown San Jose and parts of Japantown",
          "Downtown San Jose and parts of Japantown",
          "Downtown San Jose and parts of Japantown",
          "Downtown San Jose and parts of Japantown",
          "Alum Rock",
          "Alum Rock",
          "Alum Rock",
          "Alum Rock",
          "Alum Rock",
          "Alum Rock",
          "Cambrian Park and part of Willow Glen",
          "Cambrian Park and part of Willow Glen",
          "Cambrian Park and part of Willow Glen",
          "Cambrian Park and part of Willow Glen",
          "Cambrian Park and part of Willow Glen",
          "Silver Creek Valley Country Club",
          "Silver Creek Valley Country Club",
          "Silver Creek Valley Country Club",
          "Rose Garden and parts of Willow Glen",
          "Rose Garden and parts of Willow Glen",
          "Rose Garden and parts of Willow Glen",
          "Rose Garden and parts of Willow Glen",
          "Rose Garden and parts of Willow Glen",
          "Rose Garden and parts of Willow Glen",
          "Rose Garden and parts of Willow Glen",
          "Rose Garden and parts of Willow Glen",
          "Rose Garden and parts of Willow Glen",
          "Rose Garden and parts of Willow Glen",
          "Evergreen and Silver Creek",
          "Evergreen and Silver Creek",
          "Evergreen and Silver Creek",
          "Evergreen and Silver Creek",
          "Evergreen and Silver Creek",
          "Berryessa and part of North Valley",
          "Berryessa and part of North Valley",
          "Berryessa and part of North Valley",
          "Campbell "
         ],
         "xaxis": "x",
         "y": [
          269,
          229,
          47,
          41,
          36,
          16,
          174,
          128,
          57,
          51,
          34,
          18,
          170,
          142,
          84,
          23,
          17,
          137,
          133,
          33,
          9,
          6,
          2,
          111,
          56,
          47,
          47,
          9,
          4,
          100,
          82,
          22,
          16,
          10,
          9,
          76,
          75,
          24,
          14,
          12,
          6,
          70,
          70,
          70,
          66,
          66,
          66,
          52,
          52,
          52,
          42,
          42,
          42,
          24,
          24,
          24,
          60,
          55,
          34,
          25,
          14,
          57,
          53,
          32,
          32,
          10,
          6,
          54,
          41,
          7,
          5,
          4,
          42,
          26,
          3,
          42,
          42,
          34,
          24,
          13,
          32,
          21,
          15,
          6,
          6,
          20,
          13,
          9,
          5,
          3,
          14,
          11,
          7,
          2
         ],
         "yaxis": "y"
        }
       ],
       "layout": {
        "barmode": "relative",
        "coloraxis": {
         "colorbar": {
          "title": {
           "text": "PRIORITY"
          }
         },
         "colorscale": [
          [
           0,
           "#0d0887"
          ],
          [
           0.1111111111111111,
           "#46039f"
          ],
          [
           0.2222222222222222,
           "#7201a8"
          ],
          [
           0.3333333333333333,
           "#9c179e"
          ],
          [
           0.4444444444444444,
           "#bd3786"
          ],
          [
           0.5555555555555556,
           "#d8576b"
          ],
          [
           0.6666666666666666,
           "#ed7953"
          ],
          [
           0.7777777777777778,
           "#fb9f3a"
          ],
          [
           0.8888888888888888,
           "#fdca26"
          ],
          [
           1,
           "#f0f921"
          ]
         ]
        },
        "legend": {
         "tracegroupgap": 0
        },
        "margin": {
         "t": 60
        },
        "template": {
         "data": {
          "bar": [
           {
            "error_x": {
             "color": "#2a3f5f"
            },
            "error_y": {
             "color": "#2a3f5f"
            },
            "marker": {
             "line": {
              "color": "#E5ECF6",
              "width": 0.5
             },
             "pattern": {
              "fillmode": "overlay",
              "size": 10,
              "solidity": 0.2
             }
            },
            "type": "bar"
           }
          ],
          "barpolar": [
           {
            "marker": {
             "line": {
              "color": "#E5ECF6",
              "width": 0.5
             },
             "pattern": {
              "fillmode": "overlay",
              "size": 10,
              "solidity": 0.2
             }
            },
            "type": "barpolar"
           }
          ],
          "carpet": [
           {
            "aaxis": {
             "endlinecolor": "#2a3f5f",
             "gridcolor": "white",
             "linecolor": "white",
             "minorgridcolor": "white",
             "startlinecolor": "#2a3f5f"
            },
            "baxis": {
             "endlinecolor": "#2a3f5f",
             "gridcolor": "white",
             "linecolor": "white",
             "minorgridcolor": "white",
             "startlinecolor": "#2a3f5f"
            },
            "type": "carpet"
           }
          ],
          "choropleth": [
           {
            "colorbar": {
             "outlinewidth": 0,
             "ticks": ""
            },
            "type": "choropleth"
           }
          ],
          "contour": [
           {
            "colorbar": {
             "outlinewidth": 0,
             "ticks": ""
            },
            "colorscale": [
             [
              0,
              "#0d0887"
             ],
             [
              0.1111111111111111,
              "#46039f"
             ],
             [
              0.2222222222222222,
              "#7201a8"
             ],
             [
              0.3333333333333333,
              "#9c179e"
             ],
             [
              0.4444444444444444,
              "#bd3786"
             ],
             [
              0.5555555555555556,
              "#d8576b"
             ],
             [
              0.6666666666666666,
              "#ed7953"
             ],
             [
              0.7777777777777778,
              "#fb9f3a"
             ],
             [
              0.8888888888888888,
              "#fdca26"
             ],
             [
              1,
              "#f0f921"
             ]
            ],
            "type": "contour"
           }
          ],
          "contourcarpet": [
           {
            "colorbar": {
             "outlinewidth": 0,
             "ticks": ""
            },
            "type": "contourcarpet"
           }
          ],
          "heatmap": [
           {
            "colorbar": {
             "outlinewidth": 0,
             "ticks": ""
            },
            "colorscale": [
             [
              0,
              "#0d0887"
             ],
             [
              0.1111111111111111,
              "#46039f"
             ],
             [
              0.2222222222222222,
              "#7201a8"
             ],
             [
              0.3333333333333333,
              "#9c179e"
             ],
             [
              0.4444444444444444,
              "#bd3786"
             ],
             [
              0.5555555555555556,
              "#d8576b"
             ],
             [
              0.6666666666666666,
              "#ed7953"
             ],
             [
              0.7777777777777778,
              "#fb9f3a"
             ],
             [
              0.8888888888888888,
              "#fdca26"
             ],
             [
              1,
              "#f0f921"
             ]
            ],
            "type": "heatmap"
           }
          ],
          "heatmapgl": [
           {
            "colorbar": {
             "outlinewidth": 0,
             "ticks": ""
            },
            "colorscale": [
             [
              0,
              "#0d0887"
             ],
             [
              0.1111111111111111,
              "#46039f"
             ],
             [
              0.2222222222222222,
              "#7201a8"
             ],
             [
              0.3333333333333333,
              "#9c179e"
             ],
             [
              0.4444444444444444,
              "#bd3786"
             ],
             [
              0.5555555555555556,
              "#d8576b"
             ],
             [
              0.6666666666666666,
              "#ed7953"
             ],
             [
              0.7777777777777778,
              "#fb9f3a"
             ],
             [
              0.8888888888888888,
              "#fdca26"
             ],
             [
              1,
              "#f0f921"
             ]
            ],
            "type": "heatmapgl"
           }
          ],
          "histogram": [
           {
            "marker": {
             "pattern": {
              "fillmode": "overlay",
              "size": 10,
              "solidity": 0.2
             }
            },
            "type": "histogram"
           }
          ],
          "histogram2d": [
           {
            "colorbar": {
             "outlinewidth": 0,
             "ticks": ""
            },
            "colorscale": [
             [
              0,
              "#0d0887"
             ],
             [
              0.1111111111111111,
              "#46039f"
             ],
             [
              0.2222222222222222,
              "#7201a8"
             ],
             [
              0.3333333333333333,
              "#9c179e"
             ],
             [
              0.4444444444444444,
              "#bd3786"
             ],
             [
              0.5555555555555556,
              "#d8576b"
             ],
             [
              0.6666666666666666,
              "#ed7953"
             ],
             [
              0.7777777777777778,
              "#fb9f3a"
             ],
             [
              0.8888888888888888,
              "#fdca26"
             ],
             [
              1,
              "#f0f921"
             ]
            ],
            "type": "histogram2d"
           }
          ],
          "histogram2dcontour": [
           {
            "colorbar": {
             "outlinewidth": 0,
             "ticks": ""
            },
            "colorscale": [
             [
              0,
              "#0d0887"
             ],
             [
              0.1111111111111111,
              "#46039f"
             ],
             [
              0.2222222222222222,
              "#7201a8"
             ],
             [
              0.3333333333333333,
              "#9c179e"
             ],
             [
              0.4444444444444444,
              "#bd3786"
             ],
             [
              0.5555555555555556,
              "#d8576b"
             ],
             [
              0.6666666666666666,
              "#ed7953"
             ],
             [
              0.7777777777777778,
              "#fb9f3a"
             ],
             [
              0.8888888888888888,
              "#fdca26"
             ],
             [
              1,
              "#f0f921"
             ]
            ],
            "type": "histogram2dcontour"
           }
          ],
          "mesh3d": [
           {
            "colorbar": {
             "outlinewidth": 0,
             "ticks": ""
            },
            "type": "mesh3d"
           }
          ],
          "parcoords": [
           {
            "line": {
             "colorbar": {
              "outlinewidth": 0,
              "ticks": ""
             }
            },
            "type": "parcoords"
           }
          ],
          "pie": [
           {
            "automargin": true,
            "type": "pie"
           }
          ],
          "scatter": [
           {
            "fillpattern": {
             "fillmode": "overlay",
             "size": 10,
             "solidity": 0.2
            },
            "type": "scatter"
           }
          ],
          "scatter3d": [
           {
            "line": {
             "colorbar": {
              "outlinewidth": 0,
              "ticks": ""
             }
            },
            "marker": {
             "colorbar": {
              "outlinewidth": 0,
              "ticks": ""
             }
            },
            "type": "scatter3d"
           }
          ],
          "scattercarpet": [
           {
            "marker": {
             "colorbar": {
              "outlinewidth": 0,
              "ticks": ""
             }
            },
            "type": "scattercarpet"
           }
          ],
          "scattergeo": [
           {
            "marker": {
             "colorbar": {
              "outlinewidth": 0,
              "ticks": ""
             }
            },
            "type": "scattergeo"
           }
          ],
          "scattergl": [
           {
            "marker": {
             "colorbar": {
              "outlinewidth": 0,
              "ticks": ""
             }
            },
            "type": "scattergl"
           }
          ],
          "scattermapbox": [
           {
            "marker": {
             "colorbar": {
              "outlinewidth": 0,
              "ticks": ""
             }
            },
            "type": "scattermapbox"
           }
          ],
          "scatterpolar": [
           {
            "marker": {
             "colorbar": {
              "outlinewidth": 0,
              "ticks": ""
             }
            },
            "type": "scatterpolar"
           }
          ],
          "scatterpolargl": [
           {
            "marker": {
             "colorbar": {
              "outlinewidth": 0,
              "ticks": ""
             }
            },
            "type": "scatterpolargl"
           }
          ],
          "scatterternary": [
           {
            "marker": {
             "colorbar": {
              "outlinewidth": 0,
              "ticks": ""
             }
            },
            "type": "scatterternary"
           }
          ],
          "surface": [
           {
            "colorbar": {
             "outlinewidth": 0,
             "ticks": ""
            },
            "colorscale": [
             [
              0,
              "#0d0887"
             ],
             [
              0.1111111111111111,
              "#46039f"
             ],
             [
              0.2222222222222222,
              "#7201a8"
             ],
             [
              0.3333333333333333,
              "#9c179e"
             ],
             [
              0.4444444444444444,
              "#bd3786"
             ],
             [
              0.5555555555555556,
              "#d8576b"
             ],
             [
              0.6666666666666666,
              "#ed7953"
             ],
             [
              0.7777777777777778,
              "#fb9f3a"
             ],
             [
              0.8888888888888888,
              "#fdca26"
             ],
             [
              1,
              "#f0f921"
             ]
            ],
            "type": "surface"
           }
          ],
          "table": [
           {
            "cells": {
             "fill": {
              "color": "#EBF0F8"
             },
             "line": {
              "color": "white"
             }
            },
            "header": {
             "fill": {
              "color": "#C8D4E3"
             },
             "line": {
              "color": "white"
             }
            },
            "type": "table"
           }
          ]
         },
         "layout": {
          "annotationdefaults": {
           "arrowcolor": "#2a3f5f",
           "arrowhead": 0,
           "arrowwidth": 1
          },
          "autotypenumbers": "strict",
          "coloraxis": {
           "colorbar": {
            "outlinewidth": 0,
            "ticks": ""
           }
          },
          "colorscale": {
           "diverging": [
            [
             0,
             "#8e0152"
            ],
            [
             0.1,
             "#c51b7d"
            ],
            [
             0.2,
             "#de77ae"
            ],
            [
             0.3,
             "#f1b6da"
            ],
            [
             0.4,
             "#fde0ef"
            ],
            [
             0.5,
             "#f7f7f7"
            ],
            [
             0.6,
             "#e6f5d0"
            ],
            [
             0.7,
             "#b8e186"
            ],
            [
             0.8,
             "#7fbc41"
            ],
            [
             0.9,
             "#4d9221"
            ],
            [
             1,
             "#276419"
            ]
           ],
           "sequential": [
            [
             0,
             "#0d0887"
            ],
            [
             0.1111111111111111,
             "#46039f"
            ],
            [
             0.2222222222222222,
             "#7201a8"
            ],
            [
             0.3333333333333333,
             "#9c179e"
            ],
            [
             0.4444444444444444,
             "#bd3786"
            ],
            [
             0.5555555555555556,
             "#d8576b"
            ],
            [
             0.6666666666666666,
             "#ed7953"
            ],
            [
             0.7777777777777778,
             "#fb9f3a"
            ],
            [
             0.8888888888888888,
             "#fdca26"
            ],
            [
             1,
             "#f0f921"
            ]
           ],
           "sequentialminus": [
            [
             0,
             "#0d0887"
            ],
            [
             0.1111111111111111,
             "#46039f"
            ],
            [
             0.2222222222222222,
             "#7201a8"
            ],
            [
             0.3333333333333333,
             "#9c179e"
            ],
            [
             0.4444444444444444,
             "#bd3786"
            ],
            [
             0.5555555555555556,
             "#d8576b"
            ],
            [
             0.6666666666666666,
             "#ed7953"
            ],
            [
             0.7777777777777778,
             "#fb9f3a"
            ],
            [
             0.8888888888888888,
             "#fdca26"
            ],
            [
             1,
             "#f0f921"
            ]
           ]
          },
          "colorway": [
           "#636efa",
           "#EF553B",
           "#00cc96",
           "#ab63fa",
           "#FFA15A",
           "#19d3f3",
           "#FF6692",
           "#B6E880",
           "#FF97FF",
           "#FECB52"
          ],
          "font": {
           "color": "#2a3f5f"
          },
          "geo": {
           "bgcolor": "white",
           "lakecolor": "white",
           "landcolor": "#E5ECF6",
           "showlakes": true,
           "showland": true,
           "subunitcolor": "white"
          },
          "hoverlabel": {
           "align": "left"
          },
          "hovermode": "closest",
          "mapbox": {
           "style": "light"
          },
          "paper_bgcolor": "white",
          "plot_bgcolor": "#E5ECF6",
          "polar": {
           "angularaxis": {
            "gridcolor": "white",
            "linecolor": "white",
            "ticks": ""
           },
           "bgcolor": "#E5ECF6",
           "radialaxis": {
            "gridcolor": "white",
            "linecolor": "white",
            "ticks": ""
           }
          },
          "scene": {
           "xaxis": {
            "backgroundcolor": "#E5ECF6",
            "gridcolor": "white",
            "gridwidth": 2,
            "linecolor": "white",
            "showbackground": true,
            "ticks": "",
            "zerolinecolor": "white"
           },
           "yaxis": {
            "backgroundcolor": "#E5ECF6",
            "gridcolor": "white",
            "gridwidth": 2,
            "linecolor": "white",
            "showbackground": true,
            "ticks": "",
            "zerolinecolor": "white"
           },
           "zaxis": {
            "backgroundcolor": "#E5ECF6",
            "gridcolor": "white",
            "gridwidth": 2,
            "linecolor": "white",
            "showbackground": true,
            "ticks": "",
            "zerolinecolor": "white"
           }
          },
          "shapedefaults": {
           "line": {
            "color": "#2a3f5f"
           }
          },
          "ternary": {
           "aaxis": {
            "gridcolor": "white",
            "linecolor": "white",
            "ticks": ""
           },
           "baxis": {
            "gridcolor": "white",
            "linecolor": "white",
            "ticks": ""
           },
           "bgcolor": "#E5ECF6",
           "caxis": {
            "gridcolor": "white",
            "linecolor": "white",
            "ticks": ""
           }
          },
          "title": {
           "x": 0.05
          },
          "xaxis": {
           "automargin": true,
           "gridcolor": "white",
           "linecolor": "white",
           "ticks": "",
           "title": {
            "standoff": 15
           },
           "zerolinecolor": "white",
           "zerolinewidth": 2
          },
          "yaxis": {
           "automargin": true,
           "gridcolor": "white",
           "linecolor": "white",
           "ticks": "",
           "title": {
            "standoff": 15
           },
           "zerolinecolor": "white",
           "zerolinewidth": 2
          }
         }
        },
        "xaxis": {
         "anchor": "y",
         "domain": [
          0,
          1
         ],
         "title": {
          "text": "Neighborhood Name"
         }
        },
        "yaxis": {
         "anchor": "x",
         "domain": [
          0,
          1
         ],
         "title": {
          "text": "count"
         }
        }
       }
      }
     },
     "metadata": {},
     "output_type": "display_data"
    }
   ],
   "source": [
    "import plotly.express as px\n",
    "fig = px.bar(merged_df, x='Neighborhood Name', y='count', color='PRIORITY')\n",
    "fig.show()"
   ]
  },
  {
   "cell_type": "markdown",
   "metadata": {},
   "source": [
    "Healthcare\n"
   ]
  },
  {
   "cell_type": "code",
   "execution_count": 30,
   "metadata": {},
   "outputs": [
    {
     "data": {
      "text/plain": [
       "Index(['LICENSED_CERTIFIED', 'FLAG', 'T18_19', 'FACID', 'FAC_STATUS_TYPE_CODE',\n",
       "       'ASPEN_FACID', 'CCN', 'TERMINAT_SW', 'PARTICIPATION_DATE',\n",
       "       'APPROVAL_DATE', 'NPI', 'CAN_BE_DEEMED_FAC_TYPE',\n",
       "       'CAN_BE_CERTIFIED_FAC_TYPE', 'DEEMED', 'AO_CD', 'DMG_EFCTV_DT',\n",
       "       'AO_TRMNTN_DT', 'AO_NAME', 'FACNAME', 'FAC_TYPE_CODE', 'FAC_FDR', 'LTC',\n",
       "       'CAPACITY', 'ADDRESS', 'CITY', 'ZIP', 'ZIP9', 'FACADMIN',\n",
       "       'CONTACT_EMAIL', 'CONTACT_FAX', 'CONTACT_PHONE_NUMBER', 'COUNTY_CODE',\n",
       "       'COUNTY_NAME', 'DISTRICT_NUMBER', 'DISTRICT_NAME', 'ISFACMAIN',\n",
       "       'PARENT_FACID', 'FAC_FAC_RELATIONSHIP_TYPE_CODE', 'START_DATE',\n",
       "       'LICENSE_NUMBER', 'BUSINESS_NAME', 'LICENSE_STATUS_DESCRIPTION',\n",
       "       'INITIAL_LICENSE_DATE', 'LICENSE_EFFECTIVE_DATE',\n",
       "       'LICENSE_EXPIRATION_DATE', 'ENTITY_TYPE_DESCRIPTION', 'LATITUDE',\n",
       "       'LONGITUDE', 'LOCATION', 'HCAI_ID', 'CCLHO_CODE', 'CCLHO_NAME',\n",
       "       'FIPS_COUNTY_CODE', 'BIRTHING_FACILITY_FLAG', 'TRAUMA_PED_CTR',\n",
       "       'TRAUMA_CTR', 'TYPE_OF_CARE', 'CRITICAL_ACCESS_HOSPITAL', 'DATA_DATE'],\n",
       "      dtype='object')"
      ]
     },
     "execution_count": 30,
     "metadata": {},
     "output_type": "execute_result"
    }
   ],
   "source": [
    "health = pd.read_csv('health_facility_locations.csv')\n",
    "health =health[health['CITY']=='SAN JOSE']\n",
    "health.columns"
   ]
  },
  {
   "cell_type": "code",
   "execution_count": 34,
   "metadata": {},
   "outputs": [
    {
     "data": {
      "text/html": [
       "<div>\n",
       "<style scoped>\n",
       "    .dataframe tbody tr th:only-of-type {\n",
       "        vertical-align: middle;\n",
       "    }\n",
       "\n",
       "    .dataframe tbody tr th {\n",
       "        vertical-align: top;\n",
       "    }\n",
       "\n",
       "    .dataframe thead th {\n",
       "        text-align: right;\n",
       "    }\n",
       "</style>\n",
       "<table border=\"1\" class=\"dataframe\">\n",
       "  <thead>\n",
       "    <tr style=\"text-align: right;\">\n",
       "      <th></th>\n",
       "      <th>LATITUDE</th>\n",
       "      <th>LONGITUDE</th>\n",
       "      <th>CAPACITY</th>\n",
       "      <th>zip</th>\n",
       "    </tr>\n",
       "  </thead>\n",
       "  <tbody>\n",
       "    <tr>\n",
       "      <th>206</th>\n",
       "      <td>37.339839</td>\n",
       "      <td>-121.921330</td>\n",
       "      <td>0</td>\n",
       "      <td>95126</td>\n",
       "    </tr>\n",
       "    <tr>\n",
       "      <th>1335</th>\n",
       "      <td>37.360062</td>\n",
       "      <td>-121.848894</td>\n",
       "      <td>99</td>\n",
       "      <td>95116</td>\n",
       "    </tr>\n",
       "    <tr>\n",
       "      <th>1336</th>\n",
       "      <td>37.277025</td>\n",
       "      <td>-121.895279</td>\n",
       "      <td>59</td>\n",
       "      <td>95125</td>\n",
       "    </tr>\n",
       "    <tr>\n",
       "      <th>1337</th>\n",
       "      <td>37.362708</td>\n",
       "      <td>-121.846878</td>\n",
       "      <td>199</td>\n",
       "      <td>95116</td>\n",
       "    </tr>\n",
       "    <tr>\n",
       "      <th>1344</th>\n",
       "      <td>37.310103</td>\n",
       "      <td>-121.928598</td>\n",
       "      <td>153</td>\n",
       "      <td>95128</td>\n",
       "    </tr>\n",
       "  </tbody>\n",
       "</table>\n",
       "</div>"
      ],
      "text/plain": [
       "       LATITUDE   LONGITUDE  CAPACITY    zip\n",
       "206   37.339839 -121.921330         0  95126\n",
       "1335  37.360062 -121.848894        99  95116\n",
       "1336  37.277025 -121.895279        59  95125\n",
       "1337  37.362708 -121.846878       199  95116\n",
       "1344  37.310103 -121.928598       153  95128"
      ]
     },
     "execution_count": 34,
     "metadata": {},
     "output_type": "execute_result"
    }
   ],
   "source": [
    "health = health[['LATITUDE','LONGITUDE', 'CAPACITY','ZIP']]\n",
    "health.rename(columns={'ZIP':'zip'}, inplace=True)\n",
    "health.head()\n"
   ]
  },
  {
   "cell_type": "code",
   "execution_count": 41,
   "metadata": {},
   "outputs": [],
   "source": [
    "merged2 = pd.merge(health, zips, on='zip').reset_index()\n",
    "merged2.head()\n",
    "merged2.to_csv('helthMap.csv', index=False)"
   ]
  }
 ],
 "metadata": {
  "kernelspec": {
   "display_name": "Python 3",
   "language": "python",
   "name": "python3"
  },
  "language_info": {
   "codemirror_mode": {
    "name": "ipython",
    "version": 3
   },
   "file_extension": ".py",
   "mimetype": "text/x-python",
   "name": "python",
   "nbconvert_exporter": "python",
   "pygments_lexer": "ipython3",
   "version": "3.10.4"
  }
 },
 "nbformat": 4,
 "nbformat_minor": 2
}
